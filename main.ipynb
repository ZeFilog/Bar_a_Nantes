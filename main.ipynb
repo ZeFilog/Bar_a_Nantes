{
 "cells": [
  {
   "cell_type": "code",
   "execution_count": 30,
   "metadata": {},
   "outputs": [],
   "source": [
    "import requests\n",
    "import re\n",
    "import time\n",
    "from bs4 import BeautifulSoup \n",
    "from urllib.request import urlopen as uReq\n",
    "import json"
   ]
  },
  {
   "cell_type": "code",
   "execution_count": 20,
   "metadata": {},
   "outputs": [],
   "source": [
    "\n",
    "\n",
    "\n",
    "url = 'https://www.schlouk-map.com/fr/cities/nantes'\n",
    "\n"
   ]
  },
  {
   "cell_type": "code",
   "execution_count": 42,
   "metadata": {},
   "outputs": [
    {
     "name": "stdout",
     "output_type": "stream",
     "text": [
      "{'@context': 'https://schema.org', '@type': 'ItemList', 'itemListElement': [{'@type': 'ListItem', 'position': 1, 'url': 'https://www.schlouk-map.com/fr/places/lalsacien-4'}, {'@type': 'ListItem', 'position': 2, 'url': 'https://www.schlouk-map.com/fr/places/le-bateau-lavoir'}, {'@type': 'ListItem', 'position': 3, 'url': 'https://www.schlouk-map.com/fr/places/vin-te-faire-boire'}, {'@type': 'ListItem', 'position': 4, 'url': 'https://www.schlouk-map.com/fr/places/ohm-town'}, {'@type': 'ListItem', 'position': 5, 'url': 'https://www.schlouk-map.com/fr/places/micro-bar-1'}, {'@type': 'ListItem', 'position': 6, 'url': 'https://www.schlouk-map.com/fr/places/bistro-du-cours'}, {'@type': 'ListItem', 'position': 7, 'url': 'https://www.schlouk-map.com/fr/places/naoned'}, {'@type': 'ListItem', 'position': 8, 'url': 'https://www.schlouk-map.com/fr/places/chez-ta-mere-2'}, {'@type': 'ListItem', 'position': 9, 'url': 'https://www.schlouk-map.com/fr/places/canaille-cafe'}, {'@type': 'ListItem', 'position': 10, 'url': 'https://www.schlouk-map.com/fr/places/le-marceau-1'}, {'@type': 'ListItem', 'position': 11, 'url': 'https://www.schlouk-map.com/fr/places/le-cascabel'}, {'@type': 'ListItem', 'position': 12, 'url': 'https://www.schlouk-map.com/fr/places/prohibition'}, {'@type': 'ListItem', 'position': 13, 'url': 'https://www.schlouk-map.com/fr/places/cafe-cult'}, {'@type': 'ListItem', 'position': 14, 'url': 'https://www.schlouk-map.com/fr/places/the-black-shelter'}, {'@type': 'ListItem', 'position': 15, 'url': 'https://www.schlouk-map.com/fr/places/les-brasses'}, {'@type': 'ListItem', 'position': 16, 'url': 'https://www.schlouk-map.com/fr/places/buck-mulligans'}, {'@type': 'ListItem', 'position': 17, 'url': 'https://www.schlouk-map.com/fr/places/la-maison-cafe'}, {'@type': 'ListItem', 'position': 18, 'url': 'https://www.schlouk-map.com/fr/places/les-kolocs'}, {'@type': 'ListItem', 'position': 19, 'url': 'https://www.schlouk-map.com/fr/places/le-santeuil-cafe'}, {'@type': 'ListItem', 'position': 20, 'url': 'https://www.schlouk-map.com/fr/places/le-coup-du-lapin'}, {'@type': 'ListItem', 'position': 21, 'url': 'https://www.schlouk-map.com/fr/places/obbo'}, {'@type': 'ListItem', 'position': 22, 'url': 'https://www.schlouk-map.com/fr/places/arlette-cafe'}, {'@type': 'ListItem', 'position': 23, 'url': 'https://www.schlouk-map.com/fr/places/au-chat-noir'}, {'@type': 'ListItem', 'position': 24, 'url': 'https://www.schlouk-map.com/fr/places/au-plaizhere'}, {'@type': 'ListItem', 'position': 25, 'url': 'https://www.schlouk-map.com/fr/places/cafe-sur-cour'}, {'@type': 'ListItem', 'position': 26, 'url': 'https://www.schlouk-map.com/fr/places/au-comptoir-iberique'}, {'@type': 'ListItem', 'position': 27, 'url': 'https://www.schlouk-map.com/fr/places/les-sales-gosses'}, {'@type': 'ListItem', 'position': 28, 'url': 'https://www.schlouk-map.com/fr/places/moda'}, {'@type': 'ListItem', 'position': 29, 'url': 'https://www.schlouk-map.com/fr/places/personnes'}, {'@type': 'ListItem', 'position': 30, 'url': 'https://www.schlouk-map.com/fr/places/canaille'}, {'@type': 'ListItem', 'position': 31, 'url': 'https://www.schlouk-map.com/fr/places/bieres-dailleurs'}, {'@type': 'ListItem', 'position': 32, 'url': 'https://www.schlouk-map.com/fr/places/delirium-cafe-3'}, {'@type': 'ListItem', 'position': 33, 'url': 'https://www.schlouk-map.com/fr/places/44-tours'}, {'@type': 'ListItem', 'position': 34, 'url': 'https://www.schlouk-map.com/fr/places/au-bureau-2'}, {'@type': 'ListItem', 'position': 35, 'url': 'https://www.schlouk-map.com/fr/places/sur-un-plateau'}, {'@type': 'ListItem', 'position': 36, 'url': 'https://www.schlouk-map.com/fr/places/la-calle'}]}\n",
      "https://www.schlouk-map.com/fr/places/lalsacien-4\n",
      "https://www.schlouk-map.com/fr/places/le-bateau-lavoir\n",
      "https://www.schlouk-map.com/fr/places/vin-te-faire-boire\n",
      "https://www.schlouk-map.com/fr/places/ohm-town\n",
      "https://www.schlouk-map.com/fr/places/micro-bar-1\n",
      "https://www.schlouk-map.com/fr/places/bistro-du-cours\n",
      "https://www.schlouk-map.com/fr/places/naoned\n",
      "https://www.schlouk-map.com/fr/places/chez-ta-mere-2\n",
      "https://www.schlouk-map.com/fr/places/canaille-cafe\n",
      "https://www.schlouk-map.com/fr/places/le-marceau-1\n",
      "https://www.schlouk-map.com/fr/places/le-cascabel\n",
      "https://www.schlouk-map.com/fr/places/prohibition\n",
      "https://www.schlouk-map.com/fr/places/cafe-cult\n",
      "https://www.schlouk-map.com/fr/places/the-black-shelter\n",
      "https://www.schlouk-map.com/fr/places/les-brasses\n",
      "https://www.schlouk-map.com/fr/places/buck-mulligans\n",
      "https://www.schlouk-map.com/fr/places/la-maison-cafe\n",
      "https://www.schlouk-map.com/fr/places/les-kolocs\n",
      "https://www.schlouk-map.com/fr/places/le-santeuil-cafe\n",
      "https://www.schlouk-map.com/fr/places/le-coup-du-lapin\n",
      "https://www.schlouk-map.com/fr/places/obbo\n",
      "https://www.schlouk-map.com/fr/places/arlette-cafe\n",
      "https://www.schlouk-map.com/fr/places/au-chat-noir\n",
      "https://www.schlouk-map.com/fr/places/au-plaizhere\n",
      "https://www.schlouk-map.com/fr/places/cafe-sur-cour\n",
      "https://www.schlouk-map.com/fr/places/au-comptoir-iberique\n",
      "https://www.schlouk-map.com/fr/places/les-sales-gosses\n",
      "https://www.schlouk-map.com/fr/places/moda\n",
      "https://www.schlouk-map.com/fr/places/personnes\n",
      "https://www.schlouk-map.com/fr/places/canaille\n",
      "https://www.schlouk-map.com/fr/places/bieres-dailleurs\n",
      "https://www.schlouk-map.com/fr/places/delirium-cafe-3\n",
      "https://www.schlouk-map.com/fr/places/44-tours\n",
      "https://www.schlouk-map.com/fr/places/au-bureau-2\n",
      "https://www.schlouk-map.com/fr/places/sur-un-plateau\n",
      "https://www.schlouk-map.com/fr/places/la-calle\n"
     ]
    }
   ],
   "source": [
    "\n",
    "url = 'https://www.schlouk-map.com/fr/cities/nantes'\n",
    "response = requests.get(url)\n",
    "soup = BeautifulSoup(response.content, \"html.parser\")\n",
    "script_element = soup.find_all(\"script\", {\"type\": \"application/ld+json\"})\n",
    "for script_element in script_element: \n",
    "    json_data = json.loads(script_element.string)\n",
    "    if \"@type\" in json_data and json_data[\"@type\"] == \"ItemList\":\n",
    "            data = json_data\n",
    "            break\n",
    "print(data)\n",
    "for k in data['itemListElement']:\n",
    "      print(k['url'])\n",
    "      \n"
   ]
  }
 ],
 "metadata": {
  "kernelspec": {
   "display_name": "Python 3",
   "language": "python",
   "name": "python3"
  },
  "language_info": {
   "codemirror_mode": {
    "name": "ipython",
    "version": 3
   },
   "file_extension": ".py",
   "mimetype": "text/x-python",
   "name": "python",
   "nbconvert_exporter": "python",
   "pygments_lexer": "ipython3",
   "version": "3.11.3"
  },
  "orig_nbformat": 4
 },
 "nbformat": 4,
 "nbformat_minor": 2
}
