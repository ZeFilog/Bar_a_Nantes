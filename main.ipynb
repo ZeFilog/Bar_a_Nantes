{
 "cells": [
  {
   "cell_type": "code",
   "execution_count": 2,
   "metadata": {},
   "outputs": [],
   "source": [
    "import requests\n",
    "import re\n",
    "import time\n",
    "from bs4 import BeautifulSoup \n",
    "from urllib.request import urlopen as uReq\n",
    "import json"
   ]
  },
  {
   "cell_type": "code",
   "execution_count": 3,
   "metadata": {},
   "outputs": [
    {
     "name": "stdout",
     "output_type": "stream",
     "text": [
      "['https://www.schlouk-map.com/fr/places/lalsacien-4', 'https://www.schlouk-map.com/fr/places/le-bateau-lavoir', 'https://www.schlouk-map.com/fr/places/vin-te-faire-boire', 'https://www.schlouk-map.com/fr/places/ohm-town', 'https://www.schlouk-map.com/fr/places/micro-bar-1', 'https://www.schlouk-map.com/fr/places/bistro-du-cours', 'https://www.schlouk-map.com/fr/places/naoned', 'https://www.schlouk-map.com/fr/places/chez-ta-mere-2', 'https://www.schlouk-map.com/fr/places/canaille-cafe', 'https://www.schlouk-map.com/fr/places/le-marceau-1', 'https://www.schlouk-map.com/fr/places/le-cascabel', 'https://www.schlouk-map.com/fr/places/prohibition', 'https://www.schlouk-map.com/fr/places/cafe-cult', 'https://www.schlouk-map.com/fr/places/the-black-shelter', 'https://www.schlouk-map.com/fr/places/les-brasses', 'https://www.schlouk-map.com/fr/places/buck-mulligans', 'https://www.schlouk-map.com/fr/places/la-maison-cafe', 'https://www.schlouk-map.com/fr/places/les-kolocs', 'https://www.schlouk-map.com/fr/places/le-santeuil-cafe', 'https://www.schlouk-map.com/fr/places/le-coup-du-lapin', 'https://www.schlouk-map.com/fr/places/obbo', 'https://www.schlouk-map.com/fr/places/arlette-cafe', 'https://www.schlouk-map.com/fr/places/au-chat-noir', 'https://www.schlouk-map.com/fr/places/au-plaizhere', 'https://www.schlouk-map.com/fr/places/cafe-sur-cour', 'https://www.schlouk-map.com/fr/places/au-comptoir-iberique', 'https://www.schlouk-map.com/fr/places/les-sales-gosses', 'https://www.schlouk-map.com/fr/places/moda', 'https://www.schlouk-map.com/fr/places/personnes', 'https://www.schlouk-map.com/fr/places/canaille', 'https://www.schlouk-map.com/fr/places/bieres-dailleurs', 'https://www.schlouk-map.com/fr/places/delirium-cafe-3', 'https://www.schlouk-map.com/fr/places/44-tours', 'https://www.schlouk-map.com/fr/places/au-bureau-2', 'https://www.schlouk-map.com/fr/places/sur-un-plateau', 'https://www.schlouk-map.com/fr/places/la-calle']\n"
     ]
    }
   ],
   "source": [
    "liste_lien = []\n",
    "url = 'https://www.schlouk-map.com/fr/cities/nantes'\n",
    "response = requests.get(url)\n",
    "soup = BeautifulSoup(response.content, \"html.parser\")\n",
    "script_element = soup.find_all(\"script\", {\"type\": \"application/ld+json\"})\n",
    "for script_element in script_element: \n",
    "    json_data = json.loads(script_element.string)\n",
    "    if \"@type\" in json_data and json_data[\"@type\"] == \"ItemList\":\n",
    "            data = json_data\n",
    "            break\n",
    "for k in data['itemListElement']:\n",
    "      liste_lien.append(k['url'])\n",
    "print(liste_lien)"
   ]
  },
  {
   "cell_type": "code",
   "execution_count": 142,
   "metadata": {},
   "outputs": [
    {
     "name": "stdout",
     "output_type": "stream",
     "text": [
      "Terrasse => Oui\n",
      "Restauration => Oui\n",
      "Vente à emporter => Oui\n",
      "Wifi gratuit => Oui\n",
      "Diffusion de matchs => Oui\n",
      "🌬 Air climatisé => Non\n",
      "Accès & Toilettes Handicapés => Oui\n",
      "Billard => Non\n",
      "Fléchettes => Non\n",
      "Baby-Foot => Non\n",
      "Flipper => Non\n",
      "Concerts / Musique Live => Non\n",
      "DJ Mix => Non\n",
      "Chiens acceptés => Oui\n",
      "Jeux de société => Oui\n",
      "None\n"
     ]
    }
   ],
   "source": [
    "i = 'https://www.schlouk-map.com/fr/places/lalsacien-4'\n",
    "response = requests.get(i)\n",
    "soup = BeautifulSoup(response.content, \"html.parser\")\n",
    "\n",
    "nom = soup.find('h1').text\n",
    "nb_etoile = soup.find(\"a\", {\"href\": \"#reviews\", \"class\": \"text-secondary\"}).text\n",
    "adresse = soup.find('p', class_='text-secondary').find_next('p', class_='text-secondary').text\n",
    "adresse_nette = adresse.split('Nantes')[0].strip()\n",
    "horraire = soup.find(\"tbody\").text\n",
    "biere_la_moins_chere = soup.find('table',{\"class\" : \"table table-sm table-borderless table-drinks\"}).text\n",
    "\n",
    "service = soup.find('table',{\"class\": \"table table-sm table-borderless table-services mb-0\"}).text.split('\\n')\n",
    "def traitement(serv):\n",
    "    taille = len(serv)\n",
    "    dico = {}\n",
    "    for i in range(taille-1):\n",
    "        if serv[i][0:3] == \"Oui\" or serv[i][0:3] == \"Non\":\n",
    "            elem = serv[i][3:].strip()\n",
    "        else:\n",
    "            elem = serv[i].strip()\n",
    "        rep = serv[i+1][0:3]\n",
    "        dico[elem] = rep\n",
    "    return dico\n",
    "\n",
    "def printdico(dic):\n",
    "    for eleme in dic:\n",
    "        print(f\"{eleme} => {dic[eleme]}\")\n",
    "\n",
    "print(printdico(traitement(service)))\n",
    "\n"
   ]
  },
  {
   "cell_type": "code",
   "execution_count": null,
   "metadata": {},
   "outputs": [],
   "source": []
  }
 ],
 "metadata": {
  "kernelspec": {
   "display_name": "Python 3",
   "language": "python",
   "name": "python3"
  },
  "language_info": {
   "codemirror_mode": {
    "name": "ipython",
    "version": 3
   },
   "file_extension": ".py",
   "mimetype": "text/x-python",
   "name": "python",
   "nbconvert_exporter": "python",
   "pygments_lexer": "ipython3",
   "version": "3.11.3"
  },
  "orig_nbformat": 4
 },
 "nbformat": 4,
 "nbformat_minor": 2
}
